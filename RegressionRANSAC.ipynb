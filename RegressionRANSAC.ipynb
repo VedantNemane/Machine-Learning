{
 "cells": [
  {
   "cell_type": "markdown",
   "metadata": {},
   "source": [
    "## Linear Regression and RANSAC"
   ]
  },
  {
   "cell_type": "raw",
   "metadata": {},
   "source": [
    "This example is adapted from: https://scikit-learn.org/stable/auto_examples/linear_model/plot_ransac.html"
   ]
  },
  {
   "cell_type": "code",
   "execution_count": 1,
   "metadata": {},
   "outputs": [],
   "source": [
    "# Load the modules we need\n",
    "import numpy as np\n",
    "from matplotlib import pyplot as plt\n",
    "from sklearn import linear_model, datasets"
   ]
  },
  {
   "cell_type": "code",
   "execution_count": 2,
   "metadata": {},
   "outputs": [],
   "source": [
    "#  Create some intial data\n",
    "n_samples = 1000\n",
    "\n",
    "X, y = datasets.make_regression(n_samples=n_samples, n_features=1,\n",
    "                                      n_informative=1, noise=10,\n",
    "                                      random_state=0)"
   ]
  },
  {
   "cell_type": "code",
   "execution_count": 3,
   "metadata": {},
   "outputs": [],
   "source": [
    "# Add some outlier data\n",
    "np.random.seed(0)\n",
    "n_outliers = 50\n",
    "X[:n_outliers] = 3 + 0.5 * np.random.normal(size=(n_outliers, 1))\n",
    "y[:n_outliers] = -3 + 10 * np.random.normal(size=n_outliers)"
   ]
  },
  {
   "cell_type": "code",
   "execution_count": 4,
   "metadata": {},
   "outputs": [],
   "source": [
    "# Create some test positions for for the lines we will draw\n",
    "line_X = np.arange(X.min(), X.max())[:, np.newaxis]"
   ]
  },
  {
   "cell_type": "code",
   "execution_count": 5,
   "metadata": {},
   "outputs": [],
   "source": [
    "def doProcessing(arrX, arry):\n",
    "    # [sumX, sumX2, sumy, sumXy, n] \n",
    "    info = [0, 0, 0, 0, 0]\n",
    "    for counter in range(len(arry)):\n",
    "        info[0] = info[0] + arrX[counter]\n",
    "        info[1] = info[1] + (arrX[counter] * arrX[counter])\n",
    "        info[2] = info[2] + arry[counter]\n",
    "        info[3] = info[3] + (arrX[counter] * arry[counter])\n",
    "    info[4] = len(arry)\n",
    "    return info\n",
    "\n",
    "def findYValue(X, m, c):\n",
    "    return (m * X) + c\n",
    "\n",
    "def manuallr(arrX, arry, predictionvalues):\n",
    "    info = doProcessing(arrX, arry)\n",
    "    # y = mx + c\n",
    "    m = (info[4] * info[3] - info[0] * info[2])/(info[4] * info[1] - info[0] * info[0])\n",
    "    c = (info[2] - m * info[0]) / info[4]\n",
    "    \n",
    "    points = []\n",
    "    \n",
    "    for element in predictionvalues:\n",
    "        points.append(findYValue(element, m, c))\n",
    "    return points\n",
    "    "
   ]
  },
  {
   "cell_type": "code",
   "execution_count": 6,
   "metadata": {},
   "outputs": [
    {
     "name": "stdout",
     "output_type": "stream",
     "text": [
      "[[-174.38323639]\n",
      " [-120.21087252]\n",
      " [ -66.03850865]\n",
      " [ -11.86614478]\n",
      " [  42.30621909]\n",
      " [  96.47858295]\n",
      " [ 150.65094682]\n",
      " [ 204.82331069]]\n"
     ]
    }
   ],
   "source": [
    "# This is the cell you need to replace to complete Task 2.\n",
    "# Fit line using all data.\n",
    "# lr = linear_model.LinearRegression()\n",
    "# lr.fit(X, y)\n",
    "# line_y = lr.predict(line_X)\n",
    "# print(line_y)\n",
    "\n",
    "# Hand coded linear regression\n",
    "line_y = np.array(manuallr(X, y, line_X))\n",
    "print(line_y)"
   ]
  },
  {
   "cell_type": "code",
   "execution_count": 7,
   "metadata": {},
   "outputs": [],
   "source": [
    "import math\n",
    "import random\n",
    "\n",
    "def calcmc(xpoint1, ypoint1, xpoint2, ypoint2):\n",
    "    horizontalgrad = xpoint2 - xpoint1\n",
    "    verticalgrad = ypoint2 - ypoint1\n",
    "    m = verticalgrad/horizontalgrad\n",
    "    c = ypoint1 - (m * xpoint1)\n",
    "    return [m, c]\n",
    "\n",
    "def classifyinlier(X, y, m, c, threshold):\n",
    "    inlier = []\n",
    "    for i in range(len(y)):\n",
    "        if distPointLine([y[i], X[i]], m, c) < threshold:\n",
    "            inlier.append(True)\n",
    "        else:\n",
    "            inlier.append(False)\n",
    "    return inlier\n",
    "\n",
    "# point = [y, x]\n",
    "def distPointLine(point, m, c):\n",
    "    # liney = m * point[1] + c\n",
    "    # linex = (point[0] - c) / m\n",
    "    \n",
    "    return abs((m * point[1] - point[0] + c)) / (math.sqrt(m * m + 1))\n",
    "\n",
    "def countOutliers(array):\n",
    "    counter = 0\n",
    "    for element in array:\n",
    "        if element == False:\n",
    "            counter = counter + 1   \n",
    "    return counter\n",
    "\n",
    "def manualRANSAC(X, y, predictionvalues, iterations, threshold):\n",
    "    oldmc = []\n",
    "    oldcount = 999999999\n",
    "    array = []\n",
    "    for i in range(iterations):\n",
    "        position1 = random.randrange(0, len(y))\n",
    "        position2 = random.randrange(0, len(y))\n",
    "        while (position1 == position2):\n",
    "            position2 = random.randrange(0, len(y))\n",
    "        point1 = [y[position1], X[position1]]\n",
    "        point2 = [y[position2], X[position2]]\n",
    "        \n",
    "        mc = calcmc(point1[1], point1[0], point2[1], point2[0])\n",
    "        array = classifyinlier(X, y, mc[0], mc[1], threshold)\n",
    "        outliercount = countOutliers(array)\n",
    "        if outliercount < oldcount:\n",
    "            oldmc = mc\n",
    "            oldcount = outliercount\n",
    "    return (predictionvalues * oldmc[0]) + oldmc[1], array\n",
    "            \n",
    "        "
   ]
  },
  {
   "cell_type": "code",
   "execution_count": 8,
   "metadata": {},
   "outputs": [
    {
     "name": "stdout",
     "output_type": "stream",
     "text": [
      "[[-269.92792838]\n",
      " [-184.35063649]\n",
      " [ -98.7733446 ]\n",
      " [ -13.19605271]\n",
      " [  72.38123918]\n",
      " [ 157.95853107]\n",
      " [ 243.53582296]\n",
      " [ 329.11311485]]\n"
     ]
    }
   ],
   "source": [
    "# This is the cell you need to replace to complete Task 3.\n",
    "# Robustly fit linear model with RANSAC algorithm\n",
    "# ransac = linear_model.RANSACRegressor()\n",
    "# ransac.fit(X, y)\n",
    "\n",
    "# Predict data of estimated models\n",
    "# line_y_ransac = ransac.predict(line_X)\n",
    "# print(line_y_ransac)\n",
    "\n",
    "result = manualRANSAC(X, y, line_X, 1500, 1)\n",
    "line_y_ransac = result[0]\n",
    "print(line_y_ransac)\n",
    "inlier_mask = result[1]\n",
    "outlier_mask = np.logical_not(inlier_mask)\n",
    "\n",
    "# Label the if source data is inlier or outlier\n",
    "# inlier_mask = ransac.inlier_mask_\n",
    "# outlier_mask = np.logical_not(inlier_mask)"
   ]
  },
  {
   "cell_type": "code",
   "execution_count": 9,
   "metadata": {},
   "outputs": [
    {
     "data": {
      "image/png": "[encoded data removed]",
      "text/plain": [
       "<Figure size 432x288 with 1 Axes>"
      ]
     },
     "metadata": {
      "needs_background": "light"
     },
     "output_type": "display_data"
    }
   ],
   "source": [
    "lw = 2\n",
    "\n",
    "doing_linear = True\n",
    "doing_ransac = True\n",
    "\n",
    "if (doing_linear):\n",
    "    plt.plot(line_X, line_y, color='navy', linewidth=lw, label='Linear regressor')\n",
    "\n",
    "if (doing_ransac):\n",
    "    plt.scatter(X[inlier_mask], y[inlier_mask], color='yellowgreen', marker='.', label='Inliers')\n",
    "    plt.scatter(X[outlier_mask], y[outlier_mask], color='gold', marker='.', label='Outliers')\n",
    "    plt.plot(line_X, line_y_ransac, color='cornflowerblue', linewidth=lw, label='RANSAC regressor')\n",
    "else:\n",
    "    plt.scatter(X, y, color='yellowgreen', marker='.', label='Data')\n",
    "    \n",
    "plt.legend(loc='lower right')\n",
    "plt.xlabel(\"Input\")\n",
    "plt.ylabel(\"Response\")\n",
    "plt.show()"
   ]
  },
  {
   "cell_type": "code",
   "execution_count": null,
   "metadata": {},
   "outputs": [],
   "source": []
  }
 ],
 "metadata": {
  "kernelspec": {
   "display_name": "Python 3",
   "language": "python",
   "name": "python3"
  },
  "language_info": {
   "codemirror_mode": {
    "name": "ipython",
    "version": 3
   },
   "file_extension": ".py",
   "mimetype": "text/x-python",
   "name": "python",
   "nbconvert_exporter": "python",
   "pygments_lexer": "ipython3",
   "version": "3.8.5"
  }
 },
 "nbformat": 4,
 "nbformat_minor": 2
}

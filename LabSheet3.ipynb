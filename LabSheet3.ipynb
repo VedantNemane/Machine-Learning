{
 "cells": [
  {
   "cell_type": "code",
   "execution_count": 2,
   "metadata": {},
   "outputs": [
    {
     "name": "stdout",
     "output_type": "stream",
     "text": [
      "     G        G        C        A        C        T        G        A        A        \n",
      "H:  -2.737  -5.474  -8.211  -11.533  -14.007  -17.329  -19.54  -22.862  -25.658  \n",
      "L:  -3.322  -6.059  -8.796  -10.948  -14.007  -16.481  -19.54  -22.014  -24.488  \n",
      "\n",
      " ['H', 'H', 'H', 'L', 'L', 'L', 'L', 'L', 'L']\n"
     ]
    }
   ],
   "source": [
    "# Start Probabilities\n",
    "p_L = -1\n",
    "p_H = -1\n",
    "\n",
    "# Transition Probabilities\n",
    "p_LL = -0.737\n",
    "p_LH = -1.322\n",
    "p_HH = -1\n",
    "p_HL = -1\n",
    "\n",
    "# Observation Probabilities\n",
    "obs = [[-1.737, -2.322, -2.322, -1.737], [-2.322, -1.737, -1.737, -2.322]]\n",
    "\n",
    "# sequence = ['G', 'G', 'C', 'A', 'C', 'T', 'G', 'A', 'A']\n",
    "base = ['A', 'C', 'G', 'T']\n",
    "sequence = [2, 2, 1, 0, 1, 3, 2, 0, 0]\n",
    "prob = []\n",
    "decision = []\n",
    "\n",
    "# Do initial calculation\n",
    "prob.append((p_L + obs[0][2], p_H + obs[1][2]))\n",
    "if p_L + obs[0][2] > p_H + obs[1][2]:\n",
    "    decision.append('L')\n",
    "else:\n",
    "    decision.append('H')\n",
    "\n",
    "# Iterate through given sequence\n",
    "for i in range(1, len(sequence)):\n",
    "    last_L, last_H = prob[-1]\n",
    "    current_L = round(max(last_L + p_LL + obs[0][sequence[i]], last_H + p_HL + obs[0][sequence[i]]), 3)\n",
    "    current_H = round(max(last_L + p_LH + obs[1][sequence[i]], last_H + p_HH + obs[1][sequence[i]]), 3)\n",
    "    prob.append((current_L, current_H))\n",
    "    \n",
    "    # Make and record decision based on probabilities\n",
    "    if current_L > current_H:\n",
    "        decision.append('L')\n",
    "    elif current_L == current_H:\n",
    "        decision.append(decision[-1])\n",
    "    else:\n",
    "        decision.append('H')\n",
    "\n",
    "# Print probabilities\n",
    "print(\"     \", end = '')\n",
    "for _ in sequence:\n",
    "    print(base[_], \"       \", end = '')\n",
    "print(\"\\nH: \", end=' ')\n",
    "for a, b in prob:\n",
    "    print(b, end='  ')\n",
    "print(\"\\nL: \", end=' ')\n",
    "for a, b in prob:\n",
    "    print(a, end='  ')\n",
    "    \n",
    "# Print decisions made along the way\n",
    "print(\"\\n\\n\", decision)"
   ]
  },
  {
   "cell_type": "code",
   "execution_count": null,
   "metadata": {},
   "outputs": [],
   "source": []
  }
 ],
 "metadata": {
  "kernelspec": {
   "display_name": "Python 3",
   "language": "python",
   "name": "python3"
  },
  "language_info": {
   "codemirror_mode": {
    "name": "ipython",
    "version": 3
   },
   "file_extension": ".py",
   "mimetype": "text/x-python",
   "name": "python",
   "nbconvert_exporter": "python",
   "pygments_lexer": "ipython3",
   "version": "3.8.5"
  }
 },
 "nbformat": 4,
 "nbformat_minor": 4
}

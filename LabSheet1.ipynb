{
 "cells": [
  {
   "cell_type": "code",
   "execution_count": 1,
   "metadata": {
    "scrolled": false
   },
   "outputs": [
    {
     "data": {
      "text/html": [
       "<div>\n",
       "<style scoped>\n",
       "    .dataframe tbody tr th:only-of-type {\n",
       "        vertical-align: middle;\n",
       "    }\n",
       "\n",
       "    .dataframe tbody tr th {\n",
       "        vertical-align: top;\n",
       "    }\n",
       "\n",
       "    .dataframe thead th {\n",
       "        text-align: right;\n",
       "    }\n",
       "</style>\n",
       "<table border=\"1\" class=\"dataframe\">\n",
       "  <thead>\n",
       "    <tr style=\"text-align: right;\">\n",
       "      <th></th>\n",
       "      <th>fruit_label</th>\n",
       "      <th>fruit_name</th>\n",
       "      <th>fruit_subtype</th>\n",
       "      <th>mass</th>\n",
       "      <th>width</th>\n",
       "      <th>height</th>\n",
       "      <th>color_score</th>\n",
       "    </tr>\n",
       "  </thead>\n",
       "  <tbody>\n",
       "    <tr>\n",
       "      <th>0</th>\n",
       "      <td>1</td>\n",
       "      <td>apple</td>\n",
       "      <td>granny_smith</td>\n",
       "      <td>192</td>\n",
       "      <td>8.4</td>\n",
       "      <td>7.3</td>\n",
       "      <td>0.55</td>\n",
       "    </tr>\n",
       "    <tr>\n",
       "      <th>1</th>\n",
       "      <td>1</td>\n",
       "      <td>apple</td>\n",
       "      <td>granny_smith</td>\n",
       "      <td>180</td>\n",
       "      <td>8.0</td>\n",
       "      <td>6.8</td>\n",
       "      <td>0.59</td>\n",
       "    </tr>\n",
       "    <tr>\n",
       "      <th>2</th>\n",
       "      <td>1</td>\n",
       "      <td>apple</td>\n",
       "      <td>granny_smith</td>\n",
       "      <td>176</td>\n",
       "      <td>7.4</td>\n",
       "      <td>7.2</td>\n",
       "      <td>0.60</td>\n",
       "    </tr>\n",
       "    <tr>\n",
       "      <th>3</th>\n",
       "      <td>2</td>\n",
       "      <td>mandarin</td>\n",
       "      <td>mandarin</td>\n",
       "      <td>86</td>\n",
       "      <td>6.2</td>\n",
       "      <td>4.7</td>\n",
       "      <td>0.80</td>\n",
       "    </tr>\n",
       "    <tr>\n",
       "      <th>4</th>\n",
       "      <td>2</td>\n",
       "      <td>mandarin</td>\n",
       "      <td>mandarin</td>\n",
       "      <td>84</td>\n",
       "      <td>6.0</td>\n",
       "      <td>4.6</td>\n",
       "      <td>0.79</td>\n",
       "    </tr>\n",
       "  </tbody>\n",
       "</table>\n",
       "</div>"
      ],
      "text/plain": [
       "   fruit_label fruit_name fruit_subtype  mass  width  height  color_score\n",
       "0            1      apple  granny_smith   192    8.4     7.3         0.55\n",
       "1            1      apple  granny_smith   180    8.0     6.8         0.59\n",
       "2            1      apple  granny_smith   176    7.4     7.2         0.60\n",
       "3            2   mandarin      mandarin    86    6.2     4.7         0.80\n",
       "4            2   mandarin      mandarin    84    6.0     4.6         0.79"
      ]
     },
     "execution_count": 1,
     "metadata": {},
     "output_type": "execute_result"
    }
   ],
   "source": [
    "import pandas as pd\n",
    "import matplotlib.pyplot as plt\n",
    "import numpy as np\n",
    "import seaborn as sns\n",
    "\n",
    "from sklearn.neighbors import KNeighborsClassifier \n",
    "from sklearn.metrics import classification_report, confusion_matrix\n",
    "from sklearn.model_selection import train_test_split\n",
    "from sklearn.preprocessing import StandardScaler\n",
    "from sklearn.naive_bayes import GaussianNB\n",
    "from sklearn import metrics \n",
    "\n",
    "fruit = pd.read_table(\"C:/Users/vedan/ML/fruit_data_with_colors.txt\");\n",
    "fruit.head()"
   ]
  },
  {
   "cell_type": "code",
   "execution_count": 2,
   "metadata": {},
   "outputs": [
    {
     "name": "stdout",
     "output_type": "stream",
     "text": [
      "[[192.     8.4    7.3    0.55]\n",
      " [180.     8.     6.8    0.59]\n",
      " [176.     7.4    7.2    0.6 ]\n",
      " [ 86.     6.2    4.7    0.8 ]\n",
      " [ 84.     6.     4.6    0.79]]\n",
      "[1 1 1 2 2]\n"
     ]
    }
   ],
   "source": [
    "fruit_vector = fruit[[\"fruit_label\", \"fruit_name\", \"fruit_subtype\", \"mass\", \"width\", \"height\", \"color_score\"]]\n",
    "X = fruit_vector.iloc[:, 3:7].values\n",
    "y = fruit_vector.iloc[:, 0].values\n",
    "print(X[0:5])\n",
    "print(y[0:5])"
   ]
  },
  {
   "cell_type": "code",
   "execution_count": 3,
   "metadata": {},
   "outputs": [
    {
     "name": "stdout",
     "output_type": "stream",
     "text": [
      "[[-1.82753952 -1.56031839 -2.94486615  0.54956872]\n",
      " [ 0.89715576  0.36161885  2.22491959 -0.68696091]\n",
      " [-1.01013093 -1.42303716 -0.27658964 -0.68696091]\n",
      " [ 0.07974718  0.22433762 -0.69350784  0.41217654]\n",
      " [ 0.21598194  0.77346255  0.05694493  1.51131399]]\n"
     ]
    }
   ],
   "source": [
    "X_train, X_test, y_train, y_test = train_test_split(X, y, test_size = 0.3, random_state = 4321)\n",
    "scaler = StandardScaler()\n",
    "scaler.fit(X_train)\n",
    "\n",
    "X_train = scaler.transform(X_train)  \n",
    "X_test = scaler.transform(X_test)\n",
    "\n",
    "print(X_train[0:5])"
   ]
  },
  {
   "cell_type": "code",
   "execution_count": 4,
   "metadata": {
    "scrolled": true
   },
   "outputs": [
    {
     "name": "stdout",
     "output_type": "stream",
     "text": [
      "[[7 0 0 0]\n",
      " [0 3 0 0]\n",
      " [0 0 6 0]\n",
      " [0 0 0 2]]\n",
      "kNN %: 100.0\n",
      "[[7 0 0 0]\n",
      " [0 3 0 0]\n",
      " [0 0 6 0]\n",
      " [0 0 0 2]]\n",
      "kNN %: 100.0\n",
      "[[7 0 0 0]\n",
      " [0 3 0 0]\n",
      " [0 0 6 0]\n",
      " [0 0 0 2]]\n",
      "kNN %: 100.0\n",
      "[[7 0 0 0]\n",
      " [0 3 0 0]\n",
      " [0 0 6 0]\n",
      " [0 0 0 2]]\n",
      "kNN %: 100.0\n",
      "[[4 0 3 0]\n",
      " [0 3 0 0]\n",
      " [0 0 6 0]\n",
      " [0 0 0 2]]\n",
      "kNN %: 83.33333333333334\n",
      "[[4 0 3 0]\n",
      " [0 3 0 0]\n",
      " [0 0 6 0]\n",
      " [0 0 0 2]]\n",
      "kNN %: 83.33333333333334\n",
      "[[2 0 5 0]\n",
      " [0 0 1 2]\n",
      " [0 0 6 0]\n",
      " [0 0 0 2]]\n",
      "kNN %: 55.55555555555556\n",
      "[[2 0 5 0]\n",
      " [0 0 1 2]\n",
      " [0 0 6 0]\n",
      " [0 0 0 2]]\n",
      "kNN %: 55.55555555555556\n"
     ]
    }
   ],
   "source": [
    "#X_train, X_test, y_train, y_test = train_test_split(X, y, test_size = 0.3, random_state = 4321)\n",
    "# Loop over the range whhere 0 < i < 9\n",
    "for i in range(1, 9):\n",
    "    classifier = KNeighborsClassifier(n_neighbors=i)\n",
    "    classifier.fit(X_train, y_train)\n",
    "    y_pred = classifier.predict(X_test)\n",
    "    print(confusion_matrix(y_test, y_pred))\n",
    "    print(\"kNN %:\", metrics.accuracy_score(y_test, y_pred)*100)"
   ]
  },
  {
   "cell_type": "code",
   "execution_count": 5,
   "metadata": {},
   "outputs": [
    {
     "name": "stdout",
     "output_type": "stream",
     "text": [
      "[[7 0 0 0]\n",
      " [0 3 0 0]\n",
      " [2 0 4 0]\n",
      " [0 0 0 2]]\n",
      "Gaussian NB %: 88.88888888888889\n"
     ]
    }
   ],
   "source": [
    "classifier = GaussianNB()\n",
    "y_pred = classifier.fit(X_train, y_train).predict(X_test)\n",
    "print(confusion_matrix(y_test, y_pred))\n",
    "print(\"Gaussian NB %:\", metrics.accuracy_score(y_test, y_pred)*100)"
   ]
  },
  {
   "cell_type": "code",
   "execution_count": 6,
   "metadata": {},
   "outputs": [],
   "source": [
    "from math import sqrt\n",
    "from math import exp\n",
    "from math import pi\n",
    "import math\n",
    "\n",
    "# Reset the training/test data\n",
    "X = fruit_vector.iloc[:, [3, 4, 5, 6, 0]].values\n",
    "X_train, X_test, y_train, y_test = train_test_split(X, y, test_size = 0.3, random_state = 4321)\n",
    "\n",
    "# Calculate probabilities for each type of fruit\n",
    "def calculate_label_probability(statistics, row):\n",
    "    # Get a total of how many times class member appears in training data\n",
    "    total = sum([statistics[label][0][2] for label in statistics])\n",
    "    probabilities = dict()\n",
    "    for class_value, class_summaries in statistics.items():\n",
    "        # Probability for that fruit label is individual count/total\n",
    "        probabilities[class_value] = statistics[class_value][0][2]/float(total)\n",
    "        for i in range(len(class_summaries)):\n",
    "            mean, stdev, count = class_summaries[i]\n",
    "            # Multiply all the probabilities together\n",
    "            probabilities[class_value] *= calculate_probability(row[i], mean, stdev)\n",
    "    return probabilities\n",
    "\n",
    "# Calculate the percentage accuracy score by comparing the predicted label to real label\n",
    "def accuracy_score(actual, predicted):\n",
    "    correct = 0\n",
    "    for i in range(len(actual)):\n",
    "        if actual[i] == predicted[i]:\n",
    "            correct += 1\n",
    "    return correct/float(len(actual)) * 100.0\n",
    "\n",
    "# Calculate using the formula and values given\n",
    "def calculate_probability(x, mean, stddev):\n",
    "    return (1 / (sqrt(2 * pi) * stddev)) * exp(-((x-mean)**2 / (2 * stddev**2 )))\n",
    "\n",
    "# Returns statistics organised by fruit label\n",
    "def statistics_by_class(data):\n",
    "    separated = separate_by_label(data)\n",
    "    statistics = dict()\n",
    "    for class_value, rows in separated.items():\n",
    "        statistics[class_value] = get_statistics(rows)\n",
    "    return statistics\n",
    "\n",
    "# Returns the mean of array provided\n",
    "def mean(data):\n",
    "    return sum(data)/float(len(data))\n",
    "\n",
    "# Calculate the standard deviation of data\n",
    "def stdev(data):\n",
    "    average = mean(data)\n",
    "    variance = 0\n",
    "    for i in data:\n",
    "        variance = variance + ((i-average)**2)\n",
    "    variance = float(variance/(len(data)-1))\n",
    "    return sqrt(variance)\n",
    "\n",
    "# test a row of the test values and calculate fruit label accordingly\n",
    "def test(statistics, test_row):\n",
    "    probabilities = calculate_label_probability(statistics, test_row)\n",
    "    best_label, best_prob = None, -1000000\n",
    "    for class_value, probability in probabilities.items():\n",
    "        if best_label is None or probability > best_prob:\n",
    "            best_prob = probability\n",
    "            best_label = class_value\n",
    "    return best_label\n",
    "\n",
    "# Returns a summary of statistics for a column\n",
    "def get_statistics(data):\n",
    "    statistics = [(mean(column), stdev(column), len(column)) for column in zip(*data)]\n",
    "    del(statistics[-1])\n",
    "    return statistics\n",
    "\n",
    "# Separates data by value\n",
    "def separate_by_label(data):\n",
    "    separated = dict()\n",
    "    for i in range(len(data)):\n",
    "        row = data[i]\n",
    "        class_value = row[-1] \n",
    "        if (class_value not in separated):\n",
    "            separated[class_value] = list()\n",
    "        separated[class_value].append(row)\n",
    "    return separated\n"
   ]
  },
  {
   "cell_type": "code",
   "execution_count": 7,
   "metadata": {},
   "outputs": [
    {
     "name": "stdout",
     "output_type": "stream",
     "text": [
      "Manual Gaussian NB %: 88.88888888888889\n"
     ]
    }
   ],
   "source": [
    "stats = statistics_by_class(X_train)\n",
    "counter = 0\n",
    "for i in range(len(X_test)):\n",
    "    result = test(stats, X_test[i])\n",
    "    if result == y_test[i]:\n",
    "        counter = counter + 1\n",
    "print(\"Manual Gaussian NB %:\", counter/len(y_test) * 100)"
   ]
  },
  {
   "cell_type": "code",
   "execution_count": null,
   "metadata": {},
   "outputs": [],
   "source": []
  }
 ],
 "metadata": {
  "kernelspec": {
   "display_name": "Python 3",
   "language": "python",
   "name": "python3"
  },
  "language_info": {
   "codemirror_mode": {
    "name": "ipython",
    "version": 3
   },
   "file_extension": ".py",
   "mimetype": "text/x-python",
   "name": "python",
   "nbconvert_exporter": "python",
   "pygments_lexer": "ipython3",
   "version": "3.8.5"
  }
 },
 "nbformat": 4,
 "nbformat_minor": 4
}
